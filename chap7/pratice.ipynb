{
 "cells": [
  {
   "cell_type": "code",
   "execution_count": 5,
   "metadata": {},
   "outputs": [
    {
     "name": "stdout",
     "output_type": "stream",
     "text": [
      "6.720253499999984\n",
      "0.00013089999998783242\n"
     ]
    }
   ],
   "source": [
    "from time import perf_counter\n",
    "from numba import jit\n",
    "\n",
    "# 일반적인 loop\n",
    "def pure_sum(n):\n",
    "    result = 0\n",
    "    for i in range(0, n+1):\n",
    "        result += i\n",
    "    return result\n",
    "\n",
    "# Numba 모듈 사용\n",
    "@jit(nopython=True, cache = True)\n",
    "def numba_sum(n):\n",
    "    result = 0\n",
    "    for i in range(0, n+1):\n",
    "        result += i\n",
    "    return result\n",
    "\n",
    "# 시간 재기: 일반\n",
    "start = perf_counter()\n",
    "pure_sum(100000000)\n",
    "print(perf_counter() - start)\n",
    "\n",
    "# 시간 재기에 앞서 먼저 Compile을 해준다.\n",
    "numba_sum(1)\n",
    "\n",
    "# 시간 재기: Numba\n",
    "start = perf_counter()\n",
    "numba_sum(100000000)\n",
    "print(perf_counter() - start)"
   ]
  }
 ],
 "metadata": {
  "kernelspec": {
   "display_name": "Python 3",
   "language": "python",
   "name": "python3"
  },
  "language_info": {
   "codemirror_mode": {
    "name": "ipython",
    "version": 3
   },
   "file_extension": ".py",
   "mimetype": "text/x-python",
   "name": "python",
   "nbconvert_exporter": "python",
   "pygments_lexer": "ipython3",
   "version": "3.8.8"
  },
  "orig_nbformat": 4,
  "vscode": {
   "interpreter": {
    "hash": "507317297c2071b102c545a8005e942338072417761d163cf09c6958a8af51fa"
   }
  }
 },
 "nbformat": 4,
 "nbformat_minor": 2
}
