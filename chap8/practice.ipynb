{
 "cells": [
  {
   "cell_type": "code",
   "execution_count": null,
   "id": "bc24dd1e",
   "metadata": {},
   "outputs": [
    {
     "ename": "",
     "evalue": "",
     "output_type": "error",
     "traceback": [
      "\u001b[1;31mThe kernel failed to start due to the missing module 'tornado.httpclient'. Consider installing this module.\n",
      "\u001b[1;31mClick <a href='https://aka.ms/kernelFailuresMissingModule'>here</a> for more info."
     ]
    }
   ],
   "source": [
    "import asyncio\n",
    "\n",
    "async def show_text():\n",
    "    print(\"Hello World!\")\n",
    "\n",
    "loop = asyncio.get_event_loop() # asyncio모듈 기반 even loop 객체 생성\n",
    "loop.run_until_complete(show_text()) # show text 함수가 완료될 때까지 기다림\n",
    "loop.close()"
   ]
  },
  {
   "attachments": {},
   "cell_type": "markdown",
   "id": "5f738143",
   "metadata": {},
   "source": [
    "https://cosmosproject.tistory.com/474\n"
   ]
  },
  {
   "cell_type": "code",
   "execution_count": null,
   "id": "9eae54dd",
   "metadata": {},
   "outputs": [],
   "source": [
    "import asyncio\n",
    "\n",
    "async def show_text():\n",
    "    print(\"Hello World\")\n",
    "\n",
    "async def main():\n",
    "    await show_text() # 코루틴 함수는 단순호출X -> await 키워드를 달아야\n",
    "\n",
    "loop = asyncio.get_event_loop()\n",
    "loop.run_until_complete(main())\n",
    "loop.close()\n",
    "\"\"\"\n",
    "기다리라는 뜻이 \n",
    "show_text()가 끝나기 전가지\n",
    "아무것도 하지 말라는 뜻이 아니라\n",
    "show_text()가 완료될 때까지\n",
    "다른 작업을 하고 있을테니\n",
    "show_text()가 완료될 때까지 '기다렸다가' 결과를 가져오라는 뜻\n",
    "\"\"\""
   ]
  },
  {
   "cell_type": "code",
   "execution_count": null,
   "id": "da583562",
   "metadata": {},
   "outputs": [],
   "source": [
    "import datetime\n",
    "import requests\n",
    "from bs4 import BeautifulSoup as bs\n",
    "\n",
    "url_list = [\n",
    "    'https://www.google.com/search?q=laptop',\n",
    "    'https://www.google.com/search?q=mouse',\n",
    "    'https://www.google.com/search?q=keyboard',\n",
    "    'https://www.google.com/search?q=monitor',\n",
    "    'https://www.google.com/search?q=speaker'\n",
    "]\n",
    "\n",
    "start_dttm = datetime.datetime.now()\n",
    "print('Start = {}'.format(start_dttm))\n",
    "\n",
    "url_request_list = []\n",
    "\n",
    "for url in url_list:\n",
    "    rq = requests.get(url)\n",
    "    html_code = bs(rq.content,\"html.parser\")\n",
    "\n",
    "    url_request_list.append(html_code)\n",
    "\n",
    "end_dttm = datetime.datetime.now()\n",
    "print('End = {}'.format(end_dttm))\n",
    "print('Running time = {}'.format(end_dttm - start_dttm))"
   ]
  },
  {
   "cell_type": "code",
   "execution_count": null,
   "id": "60faaa7d",
   "metadata": {},
   "outputs": [],
   "source": [
    "import datetime\n",
    "import requests\n",
    "from bs4 import BeautifulSoup as bs\n",
    "import asyncio\n",
    "\n",
    "url_list = [\n",
    "    'https://www.google.com/search?q=laptop',\n",
    "    'https://www.google.com/search?q=mouse',\n",
    "    'https://www.google.com/search?q=keyboard',\n",
    "    'https://www.google.com/search?q=monitor',\n",
    "    'https://www.google.com/search?q=speaker'\n",
    "]\n",
    "\n",
    "start_dttm = datetime.datetime.now()\n",
    "print('Start = {}'.format(start_dttm))\n",
    "\n",
    "\n",
    "async def get_html(url):\n",
    "    \"\"\"\n",
    "    loop.run_in_executor(None,함수,argument1, argument2,...)\n",
    "    코루틴이 아닌 함수(ex request.get, bs)를\n",
    "    코루틴 함수처럼 사용하기 위해 쓰임\n",
    "    None -> 기본 executor를 사용\n",
    "    함수 -> 내가 코루틴 함수처럼 실행시킬 함수\n",
    "    argument1, argument2... -> 함수에 전달할 인자\n",
    "    \"\"\"\n",
    "    rq = await loop.run_in_executor(None, requests.get, url)\n",
    "    html_code = await loop.run_in_executor(None, bs, rq.content, 'html.parser')\n",
    "\n",
    "    return html_code\n",
    "\n",
    "async def main():\n",
    "    fts = [asyncio.ensure_future(get_html(url)) for url in url_list]\n",
    "    result = await asyncio.gather(*fts)\n",
    "\n",
    "\n",
    "loop = asyncio.get_event_loop()\n",
    "loop.run_until_complete(main())\n",
    "loop.close()\n",
    "\n",
    "\n",
    "end_dttm = datetime.datetime.now()\n",
    "print('End = {}'.format(end_dttm))\n",
    "print('Running time = {}'.format(end_dttm - start_dttm))\n"
   ]
  },
  {
   "cell_type": "code",
   "execution_count": 15,
   "id": "c2bc6af2",
   "metadata": {},
   "outputs": [
    {
     "name": "stdout",
     "output_type": "stream",
     "text": [
      "0\n",
      "1\n"
     ]
    }
   ],
   "source": [
    "def myrange(n):\n",
    "    i = 0\n",
    "\n",
    "    while i < n:\n",
    "        yield i\n",
    "        i += 1\n",
    "\n",
    "test = myrange(10)\n",
    "print(next(test)); print(next(test));"
   ]
  }
 ],
 "metadata": {
  "kernelspec": {
   "display_name": "Python 3",
   "language": "python",
   "name": "python3"
  },
  "language_info": {
   "codemirror_mode": {
    "name": "ipython",
    "version": 3
   },
   "file_extension": ".py",
   "mimetype": "text/x-python",
   "name": "python",
   "nbconvert_exporter": "python",
   "pygments_lexer": "ipython3",
   "version": "3.8.8 (tags/v3.8.8:024d805, Feb 19 2021, 13:18:16) [MSC v.1928 64 bit (AMD64)]"
  },
  "vscode": {
   "interpreter": {
    "hash": "507317297c2071b102c545a8005e942338072417761d163cf09c6958a8af51fa"
   }
  }
 },
 "nbformat": 4,
 "nbformat_minor": 5
}
