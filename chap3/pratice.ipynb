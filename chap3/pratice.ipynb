{
 "cells": [
  {
   "cell_type": "code",
   "execution_count": 8,
   "metadata": {},
   "outputs": [
    {
     "name": "stdout",
     "output_type": "stream",
     "text": [
      "6.05 ms ± 522 µs per loop (mean ± std. dev. of 7 runs, 100 loops each)\n",
      "In [8] used 0.9375 MiB RAM in 30.01s, peaked 0.00 MiB above current, total RAM usage 80.27 MiB\n"
     ]
    }
   ],
   "source": [
    "import memory_profiler\n",
    "# %load_ext memory_profiler\n",
    "\n",
    "import ipython_memory_usage \n",
    "import ipython_memory_usage.ipython_memory_usage as imu\n",
    "%ipython_memory_usage_start\n",
    "\n",
    "%timeit [i*i for i in range(100_000)]"
   ]
  }
 ],
 "metadata": {
  "kernelspec": {
   "display_name": "Python 3",
   "language": "python",
   "name": "python3"
  },
  "language_info": {
   "codemirror_mode": {
    "name": "ipython",
    "version": 3
   },
   "file_extension": ".py",
   "mimetype": "text/x-python",
   "name": "python",
   "nbconvert_exporter": "python",
   "pygments_lexer": "ipython3",
   "version": "3.8.8"
  },
  "orig_nbformat": 4,
  "vscode": {
   "interpreter": {
    "hash": "507317297c2071b102c545a8005e942338072417761d163cf09c6958a8af51fa"
   }
  }
 },
 "nbformat": 4,
 "nbformat_minor": 2
}
