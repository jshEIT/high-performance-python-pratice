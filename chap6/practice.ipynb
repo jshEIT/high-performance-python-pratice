{
 "cells": [
  {
   "cell_type": "code",
   "execution_count": 12,
   "metadata": {},
   "outputs": [
    {
     "ename": "TypeError",
     "evalue": "'float' object is not subscriptable",
     "output_type": "error",
     "traceback": [
      "\u001b[1;31m---------------------------------------------------------------------------\u001b[0m",
      "\u001b[1;31mTypeError\u001b[0m                                 Traceback (most recent call last)",
      "\u001b[1;32mc:\\Users\\jason\\Desktop\\edu\\high-performance-python\\chap6\\practice.ipynb Cell 1\u001b[0m in \u001b[0;36m<cell line: 4>\u001b[1;34m()\u001b[0m\n\u001b[0;32m      <a href='vscode-notebook-cell:/c%3A/Users/jason/Desktop/edu/high-performance-python/chap6/practice.ipynb#W0sZmlsZQ%3D%3D?line=0'>1</a>\u001b[0m \u001b[39mimport\u001b[39;00m \u001b[39mdiffusion_improved\u001b[39;00m \u001b[39mas\u001b[39;00m \u001b[39mdif_im\u001b[39;00m\n\u001b[0;32m      <a href='vscode-notebook-cell:/c%3A/Users/jason/Desktop/edu/high-performance-python/chap6/practice.ipynb#W0sZmlsZQ%3D%3D?line=1'>2</a>\u001b[0m \u001b[39mimport\u001b[39;00m \u001b[39mdiffusion_v1\u001b[39;00m \u001b[39mas\u001b[39;00m \u001b[39mdif\u001b[39;00m \n\u001b[1;32m----> <a href='vscode-notebook-cell:/c%3A/Users/jason/Desktop/edu/high-performance-python/chap6/practice.ipynb#W0sZmlsZQ%3D%3D?line=3'>4</a>\u001b[0m \u001b[39mprint\u001b[39m(dif\u001b[39m.\u001b[39;49mrun_experiment(\u001b[39m500\u001b[39;49m))\n\u001b[0;32m      <a href='vscode-notebook-cell:/c%3A/Users/jason/Desktop/edu/high-performance-python/chap6/practice.ipynb#W0sZmlsZQ%3D%3D?line=4'>5</a>\u001b[0m \u001b[39mprint\u001b[39m(dif_im\u001b[39m.\u001b[39mrun_experiment(\u001b[39m500\u001b[39m))\n",
      "File \u001b[1;32mc:\\Users\\jason\\Desktop\\edu\\high-performance-python\\chap6\\diffusion_v1.py:33\u001b[0m, in \u001b[0;36mrun_experiment\u001b[1;34m(num_iterations)\u001b[0m\n\u001b[0;32m     31\u001b[0m start \u001b[39m=\u001b[39m time\u001b[39m.\u001b[39mtime()\n\u001b[0;32m     32\u001b[0m \u001b[39mfor\u001b[39;00m i \u001b[39min\u001b[39;00m \u001b[39mrange\u001b[39m(num_iterations):\n\u001b[1;32m---> 33\u001b[0m     grid \u001b[39m=\u001b[39m evolve (grid,\u001b[39m0.1\u001b[39;49m)\n\u001b[0;32m     34\u001b[0m \u001b[39mreturn\u001b[39;00m time\u001b[39m.\u001b[39mtime() \u001b[39m-\u001b[39m start\n",
      "File \u001b[1;32mc:\\Users\\jason\\Desktop\\edu\\high-performance-python\\chap6\\diffusion_v1.py:10\u001b[0m, in \u001b[0;36mevolve\u001b[1;34m(grid, dt, D)\u001b[0m\n\u001b[0;32m      7\u001b[0m \u001b[39mfor\u001b[39;00m i \u001b[39min\u001b[39;00m \u001b[39mrange\u001b[39m(xmax):\n\u001b[0;32m      8\u001b[0m     \u001b[39mfor\u001b[39;00m j \u001b[39min\u001b[39;00m \u001b[39mrange\u001b[39m(ymax):\n\u001b[0;32m      9\u001b[0m         grid_xx \u001b[39m=\u001b[39m (\n\u001b[1;32m---> 10\u001b[0m             grid[(i \u001b[39m+\u001b[39;49m \u001b[39m1\u001b[39;49m) \u001b[39m%\u001b[39;49m xmax][j] \u001b[39m+\u001b[39m grid[(i \u001b[39m-\u001b[39m \u001b[39m1\u001b[39m) \u001b[39m%\u001b[39m xmax][j] \u001b[39m-\u001b[39m \u001b[39m2.0\u001b[39m \u001b[39m*\u001b[39m grid[i][j]\n\u001b[0;32m     11\u001b[0m         )\n\u001b[0;32m     12\u001b[0m         grid_yy \u001b[39m=\u001b[39m (\n\u001b[0;32m     13\u001b[0m             grid[i][(j \u001b[39m+\u001b[39m \u001b[39m1\u001b[39m) \u001b[39m%\u001b[39m ymax] \u001b[39m+\u001b[39m grid[i][(j \u001b[39m-\u001b[39m \u001b[39m1\u001b[39m) \u001b[39m%\u001b[39m ymax] \u001b[39m-\u001b[39m \u001b[39m2.0\u001b[39m \u001b[39m*\u001b[39m grid[i][j]\n\u001b[0;32m     14\u001b[0m         )\n\u001b[0;32m     15\u001b[0m         new_grid \u001b[39m=\u001b[39m grid[i][j] \u001b[39m+\u001b[39m D \u001b[39m*\u001b[39m (grid_xx \u001b[39m+\u001b[39m grid_yy) \u001b[39m*\u001b[39m dt\n",
      "\u001b[1;31mTypeError\u001b[0m: 'float' object is not subscriptable"
     ]
    }
   ],
   "source": [
    "import diffusion_improved as dif_im\n",
    "import diffusion_v1 as dif \n",
    "\n",
    "print(dif.run_experiment(500))\n",
    "print(dif_im.run_experiment(500))"
   ]
  }
 ],
 "metadata": {
  "kernelspec": {
   "display_name": "Python 3",
   "language": "python",
   "name": "python3"
  },
  "language_info": {
   "codemirror_mode": {
    "name": "ipython",
    "version": 3
   },
   "file_extension": ".py",
   "mimetype": "text/x-python",
   "name": "python",
   "nbconvert_exporter": "python",
   "pygments_lexer": "ipython3",
   "version": "3.8.8 (tags/v3.8.8:024d805, Feb 19 2021, 13:18:16) [MSC v.1928 64 bit (AMD64)]"
  },
  "orig_nbformat": 4,
  "vscode": {
   "interpreter": {
    "hash": "507317297c2071b102c545a8005e942338072417761d163cf09c6958a8af51fa"
   }
  }
 },
 "nbformat": 4,
 "nbformat_minor": 2
}
