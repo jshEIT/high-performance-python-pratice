{
 "cells": [
  {
   "cell_type": "code",
   "execution_count": 3,
   "metadata": {},
   "outputs": [],
   "source": [
    "import time\n",
    "\n",
    "x1, x2, y1, y2 = -1.8, 1.8, -1.8, 1.8\n",
    "c_real, c_imag = -0.62772, -.42193\n",
    "\n",
    "def calc_pure_python(desired_width,max_iterations):\n",
    "    \"\"\"복소 좌표(zs)와 복소 인자(cs)리스트를 만들고\n",
    "    줄리아 집합을 생성한다.\"\"\"\n",
    "    x_step = (x2 - x1) / desired_width\n",
    "    y_step = (y1 - y2) / desired_width\n",
    "    x = []\n",
    "    y = []\n",
    "    ycoord = y2\n",
    "    while ycoord > y1:\n",
    "        y.append(ycoord)\n",
    "        ycoord += y_step\n",
    "    xcoord = x1\n",
    "    while xcoord < x2: \n",
    "        x.append(xcoord)\n",
    "        xcoord += x_step\n",
    "\n",
    "    # 좌표리스트와 각 셀의 초기 조건 만들기\n",
    "    # 초기 조건은 상수, 쉽게 제거 가능\n",
    "    # 우리가 만든 함수의 몇몇 입력을 사용한 실제 시나리오를 시뮬레이션할 때 사용\n",
    "    zs = []\n",
    "    cs = []\n",
    "    for ycoord in y:\n",
    "        for xcoord in x:\n",
    "            zs.append(complex(xcoord, ycoord))\n",
    "            cs.append(complex(c_real, c_imag))\n",
    "    print(\"Length of x:\",len(x))\n",
    "    print(\"Total elements:\",len(zs))\n",
    "    start_time = time.time()\n",
    "    output = calculate_z_serial_purepython(max_iterations, zs,cs)\n",
    "    end_time = time.time()\n",
    "    secs = end_time - start_time\n",
    "    print(calculate_z_serial_purepython.__name__ + \"took\",secs,\"seconds\")\n",
    "\n",
    "    # 다음 sum은 1000^2 그리드에 반복 300번을 가정한 값\n",
    "    # 우리가 의도한 대로 좌표가 변화하는지 확인\n",
    "    assert sum(output) == 33219980 # 결과값이 기댓과가 같은지?\n",
    "\n",
    "\n",
    "    # CPU를 집중적으로 사용하는 계산함수\n",
    "def calculate_z_serial_purepython(maxiter,zs,cs):\n",
    "    \"\"\"줄리아 갱신 규칙을 사용해서 output 리스트 계산하기\"\"\"\n",
    "    output = [0] * len(zs)\n",
    "    for i in range(len(zs)):\n",
    "        n = 0\n",
    "        z = zs[i]\n",
    "        c = cs[i]\n",
    "        while abs(z) < 2 and n < maxiter:\n",
    "            z = z * z + c\n",
    "            n += 1\n",
    "        output[i] = n\n",
    "    return output\n"
   ]
  },
  {
   "cell_type": "code",
   "execution_count": 2,
   "metadata": {},
   "outputs": [
    {
     "name": "stdout",
     "output_type": "stream",
     "text": [
      " 48           0 LOAD_CONST               1 (0)\n",
      "              2 BUILD_LIST               1\n",
      "              4 LOAD_GLOBAL              0 (len)\n",
      "              6 LOAD_FAST                1 (zs)\n",
      "              8 CALL_FUNCTION            1\n",
      "             10 BINARY_MULTIPLY\n",
      "             12 STORE_FAST               3 (output)\n",
      "\n",
      " 49          14 LOAD_GLOBAL              1 (range)\n",
      "             16 LOAD_GLOBAL              0 (len)\n",
      "             18 LOAD_FAST                1 (zs)\n",
      "             20 CALL_FUNCTION            1\n",
      "             22 CALL_FUNCTION            1\n",
      "             24 GET_ITER\n",
      "        >>   26 FOR_ITER                74 (to 102)\n",
      "             28 STORE_FAST               4 (i)\n",
      "\n",
      " 50          30 LOAD_CONST               1 (0)\n",
      "             32 STORE_FAST               5 (n)\n",
      "\n",
      " 51          34 LOAD_FAST                1 (zs)\n",
      "             36 LOAD_FAST                4 (i)\n",
      "             38 BINARY_SUBSCR\n",
      "             40 STORE_FAST               6 (z)\n",
      "\n",
      " 52          42 LOAD_FAST                2 (cs)\n",
      "             44 LOAD_FAST                4 (i)\n",
      "             46 BINARY_SUBSCR\n",
      "             48 STORE_FAST               7 (c)\n",
      "\n",
      " 53     >>   50 LOAD_GLOBAL              2 (abs)\n",
      "             52 LOAD_FAST                6 (z)\n",
      "             54 CALL_FUNCTION            1\n",
      "             56 LOAD_CONST               2 (2)\n",
      "             58 COMPARE_OP               0 (<)\n",
      "             60 POP_JUMP_IF_FALSE       92\n",
      "             62 LOAD_FAST                5 (n)\n",
      "             64 LOAD_FAST                0 (maxiter)\n",
      "             66 COMPARE_OP               0 (<)\n",
      "             68 POP_JUMP_IF_FALSE       92\n",
      "\n",
      " 54          70 LOAD_FAST                6 (z)\n",
      "             72 LOAD_FAST                6 (z)\n",
      "             74 BINARY_MULTIPLY\n",
      "             76 LOAD_FAST                7 (c)\n",
      "             78 BINARY_ADD\n",
      "             80 STORE_FAST               6 (z)\n",
      "\n",
      " 55          82 LOAD_FAST                5 (n)\n",
      "             84 LOAD_CONST               3 (1)\n",
      "             86 INPLACE_ADD\n",
      "             88 STORE_FAST               5 (n)\n",
      "             90 JUMP_ABSOLUTE           50\n",
      "\n",
      " 56     >>   92 LOAD_FAST                5 (n)\n",
      "             94 LOAD_FAST                3 (output)\n",
      "             96 LOAD_FAST                4 (i)\n",
      "             98 STORE_SUBSCR\n",
      "            100 JUMP_ABSOLUTE           26\n",
      "\n",
      " 57     >>  102 LOAD_FAST                3 (output)\n",
      "            104 RETURN_VALUE\n"
     ]
    }
   ],
   "source": [
    "import dis\n",
    "import julia1\n",
    "dis.dis(julia1.calculate_z_serial_purepython)"
   ]
  },
  {
   "cell_type": "code",
   "execution_count": 3,
   "metadata": {},
   "outputs": [],
   "source": [
    "# 같은 일을 하지만 다른 결과\n",
    "def fn_expressive(upper=1_000_000):\n",
    "    total = 0\n",
    "    for n in range(upper):\n",
    "        total += n # total.__add__\n",
    "    return total\n",
    "\n",
    "def fn_terse(upper = 1_000_000):\n",
    "    return sum(range(upper))\n",
    "\n",
    "assert fn_expressive() == fn_terse(), \"Expect identical results from both functions\""
   ]
  },
  {
   "cell_type": "code",
   "execution_count": 9,
   "metadata": {},
   "outputs": [
    {
     "name": "stdout",
     "output_type": "stream",
     "text": [
      "64.8 ms ± 684 µs per loop (mean ± std. dev. of 7 runs, 10 loops each)\n",
      "52.5 ms ± 11.3 ms per loop (mean ± std. dev. of 7 runs, 10 loops each)\n"
     ]
    }
   ],
   "source": [
    "%timeit fn_expressive()\n",
    "%timeit fn_terse()"
   ]
  },
  {
   "cell_type": "code",
   "execution_count": 11,
   "metadata": {},
   "outputs": [
    {
     "name": "stdout",
     "output_type": "stream",
     "text": [
      "  2           0 LOAD_CONST               1 (0)\n",
      "              2 STORE_FAST               1 (total)\n",
      "\n",
      "  3           4 LOAD_GLOBAL              0 (range)\n",
      "              6 LOAD_FAST                0 (upper)\n",
      "              8 CALL_FUNCTION            1\n",
      "             10 GET_ITER\n",
      "        >>   12 FOR_ITER                12 (to 26)\n",
      "             14 STORE_FAST               2 (n)\n",
      "\n",
      "  4          16 LOAD_FAST                1 (total)\n",
      "             18 LOAD_FAST                2 (n)\n",
      "             20 INPLACE_ADD\n",
      "             22 STORE_FAST               1 (total)\n",
      "             24 JUMP_ABSOLUTE           12\n",
      "\n",
      "  5     >>   26 LOAD_FAST                1 (total)\n",
      "             28 RETURN_VALUE\n"
     ]
    }
   ],
   "source": [
    "import dis\n",
    "dis.dis(fn_expressive)"
   ]
  },
  {
   "cell_type": "code",
   "execution_count": 12,
   "metadata": {},
   "outputs": [
    {
     "name": "stdout",
     "output_type": "stream",
     "text": [
      "  8           0 LOAD_GLOBAL              0 (sum)\n",
      "              2 LOAD_GLOBAL              1 (range)\n",
      "              4 LOAD_FAST                0 (upper)\n",
      "              6 CALL_FUNCTION            1\n",
      "              8 CALL_FUNCTION            1\n",
      "             10 RETURN_VALUE\n"
     ]
    }
   ],
   "source": [
    "dis.dis(fn_terse)"
   ]
  }
 ],
 "metadata": {
  "kernelspec": {
   "display_name": "Python 3",
   "language": "python",
   "name": "python3"
  },
  "language_info": {
   "codemirror_mode": {
    "name": "ipython",
    "version": 3
   },
   "file_extension": ".py",
   "mimetype": "text/x-python",
   "name": "python",
   "nbconvert_exporter": "python",
   "pygments_lexer": "ipython3",
   "version": "3.8.8 (tags/v3.8.8:024d805, Feb 19 2021, 13:18:16) [MSC v.1928 64 bit (AMD64)]"
  },
  "orig_nbformat": 4,
  "vscode": {
   "interpreter": {
    "hash": "507317297c2071b102c545a8005e942338072417761d163cf09c6958a8af51fa"
   }
  }
 },
 "nbformat": 4,
 "nbformat_minor": 2
}
